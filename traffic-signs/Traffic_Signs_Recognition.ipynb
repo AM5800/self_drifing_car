{
 "cells": [
  {
   "cell_type": "markdown",
   "metadata": {},
   "source": [
    "# Self-Driving Car Engineer Nanodegree\n",
    "\n",
    "## Deep Learning\n",
    "\n",
    "## Project: Build a Traffic Sign Recognition Classifier\n",
    "\n",
    "In this notebook, a template is provided for you to implement your functionality in stages which is required to successfully complete this project. If additional code is required that cannot be included in the notebook, be sure that the Python code is successfully imported and included in your submission, if necessary. Sections that begin with **'Implementation'** in the header indicate where you should begin your implementation for your project. Note that some sections of implementation are optional, and will be marked with **'Optional'** in the header.\n",
    "\n",
    "In addition to implementing code, there will be questions that you must answer which relate to the project and your implementation. Each section where you will answer a question is preceded by a **'Question'** header. Carefully read each question and provide thorough answers in the following text boxes that begin with **'Answer:'**. Your project submission will be evaluated based on your answers to each of the questions and the implementation you provide.\n",
    "\n",
    ">**Note:** Code and Markdown cells can be executed using the **Shift + Enter** keyboard shortcut. In addition, Markdown cells can be edited by typically double-clicking the cell to enter edit mode."
   ]
  },
  {
   "cell_type": "code",
   "execution_count": 1,
   "metadata": {
    "collapsed": false
   },
   "outputs": [
    {
     "data": {
      "text/plain": [
       "[name: \"/cpu:0\"\n",
       " device_type: \"CPU\"\n",
       " memory_limit: 268435456\n",
       " locality {\n",
       " }\n",
       " incarnation: 12042459922696807077, name: \"/gpu:0\"\n",
       " device_type: \"GPU\"\n",
       " memory_limit: 1233125376\n",
       " locality {\n",
       "   bus_id: 1\n",
       " }\n",
       " incarnation: 15671203809643593305\n",
       " physical_device_desc: \"device: 0, name: GeForce GTX 760, pci bus id: 0000:01:00.0\"]"
      ]
     },
     "execution_count": 1,
     "metadata": {},
     "output_type": "execute_result"
    }
   ],
   "source": [
    "from tensorflow.python.client import device_lib\n",
    "device_lib.list_local_devices()"
   ]
  },
  {
   "cell_type": "markdown",
   "metadata": {},
   "source": [
    "---\n",
    "\n",
    "## Step 1: Dataset Exploration\n",
    "\n",
    "Visualize the German Traffic Signs Dataset. This is open ended, some suggestions include: plotting traffic signs images, plotting the count of each sign, etc. Be creative!\n",
    "\n",
    "\n",
    "The pickled data is a dictionary with 4 key/value pairs:\n",
    "\n",
    "- features -> the images pixel values, (width, height, channels)\n",
    "- labels -> the label of the traffic sign\n",
    "- sizes -> the original width and height of the image, (width, height)\n",
    "- coords -> coordinates of a bounding box around the sign in the image, (x1, y1, x2, y2). Based the original image (not the resized version)."
   ]
  },
  {
   "cell_type": "code",
   "execution_count": 2,
   "metadata": {
    "collapsed": false
   },
   "outputs": [],
   "source": [
    "import pickle\n",
    "from random import shuffle\n",
    "import numpy as np\n",
    "from itertools import groupby\n",
    "import cv2\n",
    "\n",
    "training_file = \"train.p\"\n",
    "testing_file = \"test.p\"\n",
    "\n",
    "with open(training_file, mode='rb') as f:\n",
    "    train = pickle.load(f)\n",
    "with open(testing_file, mode='rb') as f:\n",
    "    test = pickle.load(f)\n",
    "    \n",
    "X_train, y_train = train['features'], train['labels']\n",
    "X_test, y_test = test['features'], test['labels']\n",
    "\n",
    "def to_onehot(label, labels_num):\n",
    "    result = np.zeros(labels_num, dtype=np.float)\n",
    "    result[label] = 1\n",
    "    return result\n",
    "    \n",
    "def to_onehot_list(labels):\n",
    "    labels_num = len(list(groupby(sorted(labels))))\n",
    "    return list(map(lambda label: to_onehot(label, labels_num), labels))\n",
    "\n",
    "color_map = None\n",
    "\n",
    "def preporcess_image(img):    \n",
    "    '''global color_map\n",
    "    result = cv2.cvtColor(img, cv2.COLOR_RGB2YUV)\n",
    "    color_map = cv2.COLOR_YUV2RGB\n",
    "    \n",
    "    y = result[:,:,0]\n",
    "    y = y.astype('uint8')\n",
    "    y = cv2.equalizeHist(y)\n",
    "    result[:,:,0] = y\n",
    "    \n",
    "    return result'''\n",
    "    \n",
    "    shape = img.shape\n",
    "    result = np.dot(img, [0.8, 0.1, 0.1])\n",
    "    return result.reshape(32, 32, 1)\n",
    "    result = result.astype('uint8')\n",
    "    result = result.reshape(shape[0], shape[1])   \n",
    "    result = cv2.equalizeHist(result)\n",
    "    result.astype('float')\n",
    "    return result.reshape(32, 32, 1)\n",
    "    \n",
    "\n",
    "#-------------------------------------------------------------------\n",
    "def filter_classes(features, labels, num_classes, features_per_class):   \n",
    "    counts = {}\n",
    "    result_features = []\n",
    "    result_labels = []\n",
    "    \n",
    "    for i in range(features.shape[0]):\n",
    "        label = labels[i]\n",
    "        if label >= num_classes:\n",
    "            continue\n",
    "        \n",
    "        cnt = counts.setdefault(label, 0)\n",
    "        if cnt >= features_per_class:\n",
    "            continue\n",
    "            \n",
    "        counts[label] = cnt + 1\n",
    "        result_features.append(features[i])\n",
    "        result_labels.append(label)\n",
    "            \n",
    "    return (result_features, result_labels)\n",
    "\n",
    "train_features, train_labels = filter_classes(X_train, y_train, 5, 500)\n",
    "test_features, test_labels = filter_classes(X_test, y_test, 5, 500)\n",
    "\n",
    "X_train = np.array(list(map(preporcess_image, train_features)))\n",
    "y_train = train_labels\n",
    "\n",
    "X_test = np.array(list(map(preporcess_image, test_features)))\n",
    "y_test = test_labels\n",
    "\n",
    "# ---------------------------------------------------------------------\n",
    "\n",
    "y_train_onehot = to_onehot_list(y_train)\n",
    "y_test_onehot = to_onehot_list(y_test)"
   ]
  },
  {
   "cell_type": "code",
   "execution_count": 3,
   "metadata": {
    "collapsed": false
   },
   "outputs": [
    {
     "name": "stdout",
     "output_type": "stream",
     "text": [
      "Number of training examples = 2210\n",
      "Number of testing examples = 2010\n",
      "Image data shape = [32 32  1]\n",
      "Number of classes = 5\n"
     ]
    }
   ],
   "source": [
    "n_train = X_train.shape[0]\n",
    "\n",
    "n_test = X_test.shape[0]\n",
    "\n",
    "image_shape = np.array(X_test.shape[1:])\n",
    "\n",
    "n_classes = len(list(groupby(sorted(y_train))))\n",
    "\n",
    "print(\"Number of training examples =\", n_train)\n",
    "print(\"Number of testing examples =\", n_test)\n",
    "print(\"Image data shape =\", image_shape)\n",
    "print(\"Number of classes =\", n_classes)"
   ]
  },
  {
   "cell_type": "code",
   "execution_count": 4,
   "metadata": {
    "collapsed": false,
    "scrolled": false
   },
   "outputs": [
    {
     "name": "stdout",
     "output_type": "stream",
     "text": [
      "1191\n",
      "1032\n",
      "1779\n",
      "927\n",
      "545\n"
     ]
    },
    {
     "data": {
      "image/png": "[encoded data removed]",
      "text/plain": [
       "<matplotlib.figure.Figure at 0x7fd7a14ef5c0>"
      ]
     },
     "metadata": {},
     "output_type": "display_data"
    }
   ],
   "source": [
    "import matplotlib.pyplot as plt\n",
    "import cv2\n",
    "\n",
    "%matplotlib inline\n",
    "\n",
    "def show_img(img):\n",
    "    shape = img.shape\n",
    "    if img.ndim == 2:\n",
    "        plt.imshow(img, cmap='gray')\n",
    "    elif img.ndim == 3:\n",
    "        if shape[2] == 1:\n",
    "            plt.imshow(img.reshape(shape[0], shape[1]), cmap='gray')\n",
    "        else:\n",
    "            plt.imshow(cv2.cvtColor(img, color_map))\n",
    "    plt.show()\n",
    "\n",
    "   \n",
    "result = None\n",
    "for i in [1191, 1032, 1779, 927, 545]:#np.random.permutation(n_train)[:5]:\n",
    "    print(i)\n",
    "    if result is None:\n",
    "        result = X_train[i]\n",
    "    else:\n",
    "        result = np.concatenate((result, X_train[i]), axis = 1)\n",
    "\n",
    "show_img(result)"
   ]
  },
  {
   "cell_type": "code",
   "execution_count": 5,
   "metadata": {
    "collapsed": false
   },
   "outputs": [],
   "source": [
    "import csv\n",
    "\n",
    "def get_signs_names():\n",
    "    result = {}\n",
    "    with open('signnames.csv') as csvfile:\n",
    "        reader = csv.DictReader(csvfile)\n",
    "        for row in reader:\n",
    "            classId = int(row['ClassId'])\n",
    "            name = row['SignName']\n",
    "            result[classId] = name\n",
    "    return result\n",
    "                    \n",
    "sign_names = get_signs_names()"
   ]
  },
  {
   "cell_type": "code",
   "execution_count": 6,
   "metadata": {
    "collapsed": false
   },
   "outputs": [
    {
     "data": {
      "text/plain": [
       "<matplotlib.text.Text at 0x7fd7a14ced30>"
      ]
     },
     "execution_count": 6,
     "metadata": {},
     "output_type": "execute_result"
    },
    {
     "data": {
      "image/png": "[encoded data removed]",
      "text/plain": [
       "<matplotlib.figure.Figure at 0x7fd754be9898>"
      ]
     },
     "metadata": {},
     "output_type": "display_data"
    }
   ],
   "source": [
    "def build_labels_counts(labels):\n",
    "    return list(zip(*map(lambda x: (x[0], len(list(x[1]))), groupby(sorted(labels)))))\n",
    "\n",
    "trainset_counts = build_labels_counts(y_train)\n",
    "testset_count = build_labels_counts(y_test)\n",
    "plt.plot(trainset_counts[0], trainset_counts[1])\n",
    "plt.plot(testset_count[0], testset_count[1])\n",
    "\n",
    "plt.ylabel(\"Number of samples\")\n",
    "plt.xlabel(\"Label\")\n"
   ]
  },
  {
   "cell_type": "markdown",
   "metadata": {},
   "source": [
    "----\n",
    "\n",
    "## Step 2: Design and Test a Model Architecture\n",
    "\n",
    "Design and implement a deep learning model that learns to recognize traffic signs. Train and test your model on the [German Traffic Sign Dataset](http://benchmark.ini.rub.de/?section=gtsrb&subsection=dataset).\n",
    "\n",
    "There are various aspects to consider when thinking about this problem:\n",
    "\n",
    "- Your model can be derived from a deep feedforward net or a deep convolutional network.\n",
    "- Play around preprocessing techniques (normalization, rgb to grayscale, etc)\n",
    "- Number of examples per label (some have more than others).\n",
    "- Generate fake data.\n",
    "\n",
    "Here is an example of a [published baseline model on this problem](http://yann.lecun.com/exdb/publis/pdf/sermanet-ijcnn-11.pdf). It's not required to be familiar with the approach used in the paper but, it's good practice to try to read papers like these."
   ]
  },
  {
   "cell_type": "markdown",
   "metadata": {},
   "source": [
    "### Implementation\n",
    "\n",
    "Use the code cell (or multiple code cells, if necessary) to implement the first step of your project. Once you have completed your implementation and are satisfied with the results, be sure to thoroughly answer the questions that follow."
   ]
  },
  {
   "cell_type": "code",
   "execution_count": null,
   "metadata": {
    "collapsed": false
   },
   "outputs": [],
   "source": [
    "# Helper functions\n",
    "\n",
    "import tensorflow as tf\n",
    "\n",
    "def create_weights(shape):\n",
    "    return tf.Variable(tf.truncated_normal(shape, stddev=0.1))\n",
    "\n",
    "def create_biases(shape):\n",
    "    return tf.Variable(tf.constant(0.1, shape = shape))\n",
    "\n",
    "def conv2d(input_layer, filter_size, out_channels, stride=1, padding='SAME'):\n",
    "    input_shape = input_layer.get_shape().as_list()\n",
    "    \n",
    "    #weights_shape = [*input_shape[1:], out_channels]\n",
    "    weights_shape = [filter_size, filter_size, input_shape[3], out_channels]\n",
    "       \n",
    "    weights = create_weights(weights_shape)\n",
    "    biases = create_biases([out_channels])\n",
    "    \n",
    "    output_layer = tf.nn.conv2d(input_layer, weights, [1, stride, stride, 1], padding)\n",
    "    output_layer = tf.nn.bias_add(output_layer, biases)\n",
    "    \n",
    "    return (output_layer, weights)\n",
    "\n",
    "def max_pool(input_layer, size=2, padding='SAME'):\n",
    "    dimensions = [1, size, size, 1]\n",
    "    return tf.nn.max_pool(input_layer, dimensions, dimensions, padding)\n",
    "\n",
    "def densely_connected(input_layer, output_nodes_number):\n",
    "    input_shape = input_layer.get_shape().as_list()\n",
    "    flat_size = np.prod(input_shape[1:]) \n",
    "    \n",
    "    flat_input = tf.reshape(input_layer, [-1, flat_size])\n",
    "    \n",
    "    weights = create_weights([flat_size, output_nodes_number])\n",
    "    biases = create_biases([output_nodes_number])\n",
    "    \n",
    "    result = tf.matmul(flat_input, weights)\n",
    "    result = tf.nn.bias_add(result, biases)\n",
    "    \n",
    "    return result \n",
    "\n",
    "\n",
    "def chunks(list, chunk_size):\n",
    "    return [list[i:i+chunk_size] for i in range(0, len(list), chunk_size)]\n",
    "\n",
    "def create_batches(features, labels, batch_size):\n",
    "    zipped = list(zip(features, labels))\n",
    "    shuffle(zipped)\n",
    "    unzipped = list(zip(*zipped))\n",
    "    \n",
    "    new_features = chunks(unzipped[0], batch_size)\n",
    "    new_labels = chunks(unzipped[1], batch_size)\n",
    "    \n",
    "    return list(zip(new_features, new_labels))\n",
    "\n",
    "def evaluate_net(net, session, features, labels, size_limit):\n",
    "    correct_prediction = tf.equal(tf.argmax(net, 1), tf.argmax(y, 1))\n",
    "    accuracy_function = tf.reduce_mean(tf.cast(correct_prediction, tf.float32))\n",
    "\n",
    "    return session.run(accuracy_function, \n",
    "                       feed_dict={x: features[:size_limit], y: labels[:size_limit], keep_prob:1.0})"
   ]
  },
  {
   "cell_type": "code",
   "execution_count": null,
   "metadata": {
    "collapsed": false
   },
   "outputs": [
    {
     "data": {
      "image/png": "[encoded data removed]",
      "text/plain": [
       "<matplotlib.figure.Figure at 0x7fd754805ac8>"
      ]
     },
     "metadata": {},
     "output_type": "display_data"
    },
    {
     "name": "stdout",
     "output_type": "stream",
     "text": [
      "Iteration: 78000\n",
      "  Test accuracy: 0.94\n",
      "  Train accuracy: 1.0\n"
     ]
    }
   ],
   "source": [
    "from IPython import display\n",
    "import time\n",
    "import pylab as pl\n",
    "\n",
    "\n",
    "'''import numpy as np\n",
    "from random import shuffle\n",
    "\n",
    "from tensorflow.examples.tutorials.mnist import input_data\n",
    "\n",
    "mnist = input_data.read_data_sets(\"MNIST_data/\", one_hot=True)\n",
    "\n",
    "image_shape = [28, 28, 1]\n",
    "n_classes = 10\n",
    "\n",
    "X_train = np.reshape(mnist.train.images, [-1, *image_shape])\n",
    "y_train_onehot = mnist.train.labels\n",
    "\n",
    "X_test = np.reshape(mnist.test.images, [-1, *image_shape])\n",
    "y_test_onehot = mnist.test.labels'''\n",
    "\n",
    "ITERATIONS = 100\n",
    "BATCH_SIZE = 50\n",
    "LEARNING_RATE = 1e-5\n",
    "EVAL_SIZE_LIMIT = 500 # std::bad_alloc if too big\n",
    "PLOT_RESOLUTION = 100\n",
    "\n",
    "x = tf.placeholder(\"float\", [None, *image_shape])\n",
    "y = tf.placeholder(\"float\", [None, n_classes])\n",
    "keep_prob = tf.placeholder(tf.float32)\n",
    "learning_rate = tf.placeholder(tf.float32)\n",
    "\n",
    "def create_net(x):     \n",
    "    layer1, w1 = conv2d(x, 5, 32)     \n",
    "    layer1 = tf.nn.relu(layer1)\n",
    "           \n",
    "    layer2 = max_pool(layer1)\n",
    "    \n",
    "    layer3, w3 = conv2d(layer2, 5, 64)\n",
    "    layer3 = tf.nn.relu(layer3)\n",
    "        \n",
    "    layer4 = max_pool(layer3)\n",
    "    \n",
    "    layer5, w5 = conv2d(layer4, 6, 128)\n",
    "    layer5 = tf.nn.relu(layer5)\n",
    "    \n",
    "    layer6 = max_pool(layer5)\n",
    "    \n",
    "    layer7, w7 = conv2d(layer6, 4, 256)\n",
    "    layer7 = tf.nn.relu(layer7)\n",
    "    \n",
    "    layer8 = max_pool(layer7)\n",
    "                                 \n",
    "    layer9 = densely_connected(layer8, 1024)\n",
    "    layer9 = tf.nn.relu(layer9)\n",
    "    \n",
    "    layer9 = tf.nn.dropout(layer9, keep_prob)\n",
    "    \n",
    "    layer10 = densely_connected(layer9, n_classes)\n",
    "        \n",
    "    return (layer10, [w1, w3, w5, w7])\n",
    "\n",
    "net, net_weights = create_net(x)\n",
    "\n",
    "loss_function = tf.reduce_mean(-tf.reduce_sum(y * tf.log(net), reduction_indices=[1]))  \n",
    "cross_entropy = tf.reduce_mean(tf.nn.softmax_cross_entropy_with_logits(net, y))\n",
    "\n",
    "optimizer = tf.train.AdamOptimizer(learning_rate = learning_rate).minimize(cross_entropy)\n",
    "\n",
    "print(\"Training...\")\n",
    "\n",
    "'''try:\n",
    "    session.close()\n",
    "except:\n",
    "    pass\n",
    "  \n",
    "\n",
    "session = tf.Session()\n",
    "session.run(tf.global_variables_initializer())'''\n",
    "\n",
    "def train(LEARNING_RATE, ITERATIONS, BATCH_SIZE, DROPOUT):\n",
    "    print(\"Learning rate: {0}, iterations: {1}, batch size: {2}, dropout: {3}\".format(\n",
    "            LEARNING_RATE, ITERATIONS, BATCH_SIZE, DROPOUT))\n",
    "    \n",
    "    session = tf.Session()\n",
    "    session.run(tf.global_variables_initializer())\n",
    "    \n",
    "    iteration = 0\n",
    "    \n",
    "    test_plot = []\n",
    "    train_plot = []\n",
    "\n",
    "    while True:\n",
    "        batches = create_batches(X_train, y_train_onehot, BATCH_SIZE)\n",
    "        for features, labels in batches:\n",
    "            iteration = iteration + 1\n",
    "            if iteration >= ITERATIONS:\n",
    "                #test_accuracy = evaluate_net(net, session, X_test, y_test_onehot, EVAL_SIZE_LIMIT)\n",
    "                #train_accuracy = evaluate_net(net, session, X_train, y_train_onehot, EVAL_SIZE_LIMIT)\n",
    "                #print(\"  Test accuracy:\", test_accuracy)\n",
    "                #print(\"  Train accuracy:\", train_accuracy)\n",
    "                \n",
    "                return\n",
    "                       \n",
    "            session.run(optimizer, feed_dict={\n",
    "                    x: features, \n",
    "                    y: labels, \n",
    "                    keep_prob: DROPOUT, \n",
    "                    learning_rate:LEARNING_RATE\n",
    "                })\n",
    "    \n",
    "            if iteration % (ITERATIONS/PLOT_RESOLUTION) == 0 or iteration == ITERATIONS-1:\n",
    "                test_accuracy = evaluate_net(net, session, X_test, y_test_onehot, EVAL_SIZE_LIMIT)\n",
    "                train_accuracy = evaluate_net(net, session, X_train, y_train_onehot, EVAL_SIZE_LIMIT)\n",
    "                \n",
    "                test_plot.append(test_accuracy)\n",
    "                train_plot.append(train_accuracy)\n",
    "                \n",
    "                plt.ylim(0,1)\n",
    "                plt.plot(test_plot, 'r')\n",
    "                plt.plot(train_plot, 'g')\n",
    "                \n",
    "                display.clear_output(wait=True)\n",
    "                display.display(pl.gcf())\n",
    "                                \n",
    "                print(\"Iteration:\", iteration)\n",
    "                print(\"  Test accuracy:\", test_accuracy)\n",
    "                print(\"  Train accuracy:\", train_accuracy)     \n",
    "    session.close()\n",
    "\n",
    "#train(1e-4, 100000, 50, 0.5)\n",
    "#train(1e-5, 100000, 50, 0.5)\n",
    "#train(1e-6, 100000, 50, 0.5)\n",
    "\n",
    "#train(1e-4, 100000, 50, 0.4)\n",
    "#train(1e-5, 100000, 50, 0.4)\n",
    "#train(1e-6, 100000, 50, 0.4)\n",
    "\n",
    "train(1e-4, 100000, 50, 0.35)\n",
    "#train(1e-5, 100000, 50, 0.35)\n",
    "#train(1e-6, 100000, 50, 0.35)\n",
    "\n",
    "#train(1e-4, 100000, 50, 0.3)\n",
    "#train(1e-5, 100000, 50, 0.3)\n",
    "#train(1e-6, 100000, 50, 0.3)'''"
   ]
  },
  {
   "cell_type": "code",
   "execution_count": null,
   "metadata": {
    "collapsed": false,
    "scrolled": false
   },
   "outputs": [],
   "source": [
    "def show_what_net_thinks(sample):\n",
    "    probs = session.run(tf.nn.softmax(net), feed_dict={x: [sample], keep_prob: 1})[0]\n",
    "\n",
    "    for i in range(len(probs)):\n",
    "        print(\"{0} {1:.3f}\".format(sign_names[i], probs[i]))\n",
    "\n",
    "    show_img(sample)\n",
    "    \n",
    "show_what_net_thinks(X_test[11]) \n",
    "\n"
   ]
  },
  {
   "cell_type": "markdown",
   "metadata": {},
   "source": [
    "### Question 1 \n",
    "\n",
    "_Describe the techniques used to preprocess the data._"
   ]
  },
  {
   "cell_type": "markdown",
   "metadata": {},
   "source": [
    "**Answer:**"
   ]
  },
  {
   "cell_type": "code",
   "execution_count": null,
   "metadata": {
    "collapsed": true
   },
   "outputs": [],
   "source": [
    "### Generate data additional (if you want to!)\n",
    "### and split the data into training/validation/testing sets here.\n",
    "### Feel free to use as many code cells as needed."
   ]
  },
  {
   "cell_type": "markdown",
   "metadata": {},
   "source": [
    "### Question 2\n",
    "\n",
    "_Describe how you set up the training, validation and testing data for your model. If you generated additional data, why?_"
   ]
  },
  {
   "cell_type": "markdown",
   "metadata": {},
   "source": [
    "**Answer:**"
   ]
  },
  {
   "cell_type": "code",
   "execution_count": null,
   "metadata": {
    "collapsed": true
   },
   "outputs": [],
   "source": [
    "### Define your architecture here.\n",
    "### Feel free to use as many code cells as needed."
   ]
  },
  {
   "cell_type": "markdown",
   "metadata": {},
   "source": [
    "### Question 3\n",
    "\n",
    "_What does your final architecture look like? (Type of model, layers, sizes, connectivity, etc.)  For reference on how to build a deep neural network using TensorFlow, see [Deep Neural Network in TensorFlow\n",
    "](https://classroom.udacity.com/nanodegrees/nd013/parts/fbf77062-5703-404e-b60c-95b78b2f3f9e/modules/6df7ae49-c61c-4bb2-a23e-6527e69209ec/lessons/b516a270-8600-4f93-a0a3-20dfeabe5da6/concepts/83a3a2a2-a9bd-4b7b-95b0-eb924ab14432) from the classroom._\n"
   ]
  },
  {
   "cell_type": "markdown",
   "metadata": {},
   "source": [
    "**Answer:**"
   ]
  },
  {
   "cell_type": "code",
   "execution_count": null,
   "metadata": {
    "collapsed": true
   },
   "outputs": [],
   "source": [
    "### Train your model here.\n",
    "### Feel free to use as many code cells as needed."
   ]
  },
  {
   "cell_type": "markdown",
   "metadata": {},
   "source": [
    "### Question 4\n",
    "\n",
    "_How did you train your model? (Type of optimizer, batch size, epochs, hyperparameters, etc.)_\n"
   ]
  },
  {
   "cell_type": "markdown",
   "metadata": {},
   "source": [
    "**Answer:**"
   ]
  },
  {
   "cell_type": "markdown",
   "metadata": {},
   "source": [
    "### Question 5\n",
    "\n",
    "\n",
    "_What approach did you take in coming up with a solution to this problem?_"
   ]
  },
  {
   "cell_type": "markdown",
   "metadata": {},
   "source": [
    "**Answer:**"
   ]
  },
  {
   "cell_type": "markdown",
   "metadata": {},
   "source": [
    "---\n",
    "\n",
    "## Step 3: Test a Model on New Images\n",
    "\n",
    "Take several pictures of traffic signs that you find on the web or around you (at least five), and run them through your classifier on your computer to produce example results. The classifier might not recognize some local signs but it could prove interesting nonetheless.\n",
    "\n",
    "You may find `signnames.csv` useful as it contains mappings from the class id (integer) to the actual sign name."
   ]
  },
  {
   "cell_type": "markdown",
   "metadata": {},
   "source": [
    "### Implementation\n",
    "\n",
    "Use the code cell (or multiple code cells, if necessary) to implement the first step of your project. Once you have completed your implementation and are satisfied with the results, be sure to thoroughly answer the questions that follow."
   ]
  },
  {
   "cell_type": "code",
   "execution_count": null,
   "metadata": {
    "collapsed": true
   },
   "outputs": [],
   "source": [
    "### Load the images and plot them here.\n",
    "### Feel free to use as many code cells as needed."
   ]
  },
  {
   "cell_type": "markdown",
   "metadata": {},
   "source": [
    "### Question 6\n",
    "\n",
    "_Choose five candidate images of traffic signs and provide them in the report. Are there any particular qualities of the image(s) that might make classification difficult? It would be helpful to plot the images in the notebook._\n",
    "\n"
   ]
  },
  {
   "cell_type": "markdown",
   "metadata": {},
   "source": [
    "**Answer:**"
   ]
  },
  {
   "cell_type": "code",
   "execution_count": null,
   "metadata": {
    "collapsed": true
   },
   "outputs": [],
   "source": [
    "### Run the predictions here.\n",
    "### Feel free to use as many code cells as needed."
   ]
  },
  {
   "cell_type": "markdown",
   "metadata": {},
   "source": [
    "### Question 7\n",
    "\n",
    "_Is your model able to perform equally well on captured pictures when compared to testing on the dataset?_\n"
   ]
  },
  {
   "cell_type": "markdown",
   "metadata": {},
   "source": [
    "**Answer:**"
   ]
  },
  {
   "cell_type": "code",
   "execution_count": null,
   "metadata": {
    "collapsed": true
   },
   "outputs": [],
   "source": [
    "### Visualize the softmax probabilities here.\n",
    "### Feel free to use as many code cells as needed."
   ]
  },
  {
   "cell_type": "markdown",
   "metadata": {},
   "source": [
    "### Question 8\n",
    "\n",
    "*Use the model's softmax probabilities to visualize the **certainty** of its predictions, [`tf.nn.top_k`](https://www.tensorflow.org/versions/r0.11/api_docs/python/nn.html#top_k) could prove helpful here. Which predictions is the model certain of? Uncertain? If the model was incorrect in its initial prediction, does the correct prediction appear in the top k? (k should be 5 at most)*\n"
   ]
  },
  {
   "cell_type": "markdown",
   "metadata": {},
   "source": [
    "**Answer:**"
   ]
  },
  {
   "cell_type": "markdown",
   "metadata": {},
   "source": [
    "### Question 9\n",
    "_If necessary, provide documentation for how an interface was built for your model to load and classify newly-acquired images._\n"
   ]
  },
  {
   "cell_type": "markdown",
   "metadata": {},
   "source": [
    "**Answer:**"
   ]
  },
  {
   "cell_type": "markdown",
   "metadata": {},
   "source": [
    "> **Note**: Once you have completed all of the code implementations and successfully answered each question above, you may finalize your work by exporting the iPython Notebook as an HTML document. You can do this by using the menu above and navigating to  \\n\",\n",
    "    \"**File -> Download as -> HTML (.html)**. Include the finished document along with this notebook as your submission."
   ]
  },
  {
   "cell_type": "code",
   "execution_count": null,
   "metadata": {
    "collapsed": true
   },
   "outputs": [],
   "source": []
  }
 ],
 "metadata": {
  "anaconda-cloud": {},
  "kernelspec": {
   "display_name": "Python [default]",
   "language": "python",
   "name": "python3"
  },
  "language_info": {
   "codemirror_mode": {
    "name": "ipython",
    "version": 3
   },
   "file_extension": ".py",
   "mimetype": "text/x-python",
   "name": "python",
   "nbconvert_exporter": "python",
   "pygments_lexer": "ipython3",
   "version": "3.5.2"
  }
 },
 "nbformat": 4,
 "nbformat_minor": 1
}
